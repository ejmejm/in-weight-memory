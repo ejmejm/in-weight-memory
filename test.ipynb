{
 "cells": [
  {
   "cell_type": "code",
   "execution_count": 1,
   "metadata": {},
   "outputs": [],
   "source": [
    "import equinox as eqx\n",
    "import jax\n",
    "import jax.numpy as jnp\n",
    "import optax\n",
    "\n",
    "from models.models import SupervisedModel\n",
    "from tasks import decode_sequence, gen_train_sequence\n",
    "from training import apply_grads, supervised_loss_and_grads, TrainState\n",
    "from utils import tree_replace"
   ]
  },
  {
   "cell_type": "code",
   "execution_count": 2,
   "metadata": {},
   "outputs": [],
   "source": [
    "VOCAB_SIZE = 39\n",
    "SEQ_LEN = 7\n",
    "\n",
    "learning_rate = 3e-4\n",
    "tbptt_window = 40\n",
    "\n",
    "vocab_size = VOCAB_SIZE\n",
    "output_dim = VOCAB_SIZE\n",
    "embedding_dim = 64\n",
    "layer_sizes = [1024, 1024, 1024, 1024, 1024]\n",
    "recurrent_layer_indices = [1]"
   ]
  },
  {
   "cell_type": "code",
   "execution_count": 3,
   "metadata": {},
   "outputs": [],
   "source": [
    "rng = jax.random.PRNGKey(0)\n",
    "model_key, train_key, rng = jax.random.split(rng, 3)\n",
    "\n",
    "model = SupervisedModel(\n",
    "    rng = model_key,\n",
    "    vocab_size = vocab_size,\n",
    "    embedding_dim = embedding_dim,\n",
    "    layer_sizes = layer_sizes,\n",
    "    output_dim = output_dim,\n",
    "    recurrent_layer_indices = recurrent_layer_indices,\n",
    ")\n",
    "\n",
    "optimizer = optax.adam(learning_rate)\n",
    "opt_state = optimizer.init(model)"
   ]
  },
  {
   "cell_type": "code",
   "execution_count": 4,
   "metadata": {},
   "outputs": [
    {
     "name": "stdout",
     "output_type": "stream",
     "text": [
      "{'input_ids': (20000, 6), 'loss_mask': (20000, 6), 'target_ids': (20000, 6)}\n",
      "{'input_ids': Array([ 8, 32,  6,  0,  8, 32], dtype=int32), 'loss_mask': Array([0, 0, 1, 1, 1, 1], dtype=int32), 'target_ids': Array([32,  6,  0,  8, 32,  6], dtype=int32)}\n"
     ]
    }
   ],
   "source": [
    "n = 20000\n",
    "single_seq_len = (SEQ_LEN - 1) // 2\n",
    "input_ids = jax.random.randint(rng, (n, single_seq_len), 1, vocab_size)\n",
    "dividers = jnp.zeros((n, 1))\n",
    "input_ids = jnp.concatenate([input_ids, dividers, input_ids], axis=1, dtype=int)\n",
    "sequences = {\n",
    "    'input_ids': input_ids[:, :-1],\n",
    "    'target_ids': input_ids[:, 1:],\n",
    "    'loss_mask': jnp.concat([\n",
    "        jnp.zeros((n, single_seq_len - 1)), jnp.ones((n, single_seq_len + 1))\n",
    "    ], axis=1).astype(int),\n",
    "}\n",
    "print(jax.tree.map(lambda x: x.shape, sequences))\n",
    "print(jax.tree.map(lambda x: x[0], sequences))\n",
    "\n",
    "# n = 2000\n",
    "# gen_train_sequences = jax.vmap(gen_train_sequence, in_axes=(0, None, None, None, None, None))\n",
    "# sequences = gen_train_sequences(\n",
    "#     jax.random.split(jax.random.PRNGKey(0), n),\n",
    "#     2, 2, 3, 26, 10,\n",
    "# )\n",
    "\n",
    "# print(jax.tree.map(lambda x: x.shape, sequences))\n",
    "# print(jax.tree.map(lambda x: x[0], sequences))"
   ]
  },
  {
   "cell_type": "code",
   "execution_count": 5,
   "metadata": {},
   "outputs": [],
   "source": [
    "# for k in sequences.keys():\n",
    "#     if k == 'loss_mask':\n",
    "#         print(f'{k}: {sequences[k][0]}')\n",
    "#     else:\n",
    "#         print(f'{k}: {decode_sequence(sequences[k][0])}')\n",
    "#     print()"
   ]
  },
  {
   "cell_type": "code",
   "execution_count": 6,
   "metadata": {},
   "outputs": [],
   "source": [
    "def loss_fn(model: eqx.Module, rnn_state, sequence):\n",
    "    # input_tokens = sequence[:-1]\n",
    "    # target_tokens = sequence[1:]\n",
    "    # loss_mask = jnp.concatenate([jnp.zeros(single_seq_len - 1), jnp.ones(single_seq_len + 1)], axis=0)\n",
    "    input_tokens = sequence['input_ids']\n",
    "    target_tokens = sequence['target_ids']\n",
    "    loss_mask = sequence['loss_mask']\n",
    "\n",
    "    rnn_state, logits = model.forward_sequence(rnn_state, input_tokens)\n",
    "    loss = optax.softmax_cross_entropy_with_integer_labels(logits, target_tokens)\n",
    "    loss = loss * loss_mask\n",
    "    return loss.sum() / loss_mask.sum()\n",
    "\n",
    "value_grad_fn = eqx.filter_value_and_grad(loss_fn)\n",
    "value_grad_fn = eqx.filter_jit(value_grad_fn)"
   ]
  },
  {
   "cell_type": "code",
   "execution_count": 7,
   "metadata": {},
   "outputs": [
    {
     "name": "stdout",
     "output_type": "stream",
     "text": [
      "Loss: 3.656991\n",
      "Loss: 3.358118\n",
      "Loss: 3.4352367\n",
      "Loss: 3.036385\n",
      "Loss: 2.8181643\n",
      "Loss: 2.7609034\n",
      "Loss: 2.7429702\n",
      "Loss: 2.7409058\n",
      "Loss: 2.7366726\n",
      "Loss: 2.7695687\n",
      "Loss: 2.7389858\n",
      "Loss: 2.7403665\n",
      "Loss: 2.764772\n",
      "Loss: 2.7696602\n",
      "Loss: 2.8110623\n",
      "Loss: 2.6930664\n",
      "Loss: 2.7036529\n",
      "Loss: 2.8424745\n",
      "Loss: 2.755174\n",
      "Loss: 2.7199306\n",
      "Loss: 2.7833457\n",
      "Loss: 2.685863\n",
      "Loss: 2.5764189\n",
      "Loss: 2.668539\n",
      "Loss: 2.3070753\n",
      "Loss: 2.2298875\n",
      "Loss: 2.2746902\n",
      "Loss: 2.543953\n",
      "Loss: 2.50347\n",
      "Loss: 2.0879667\n",
      "Loss: 2.693561\n",
      "Loss: 2.4434566\n",
      "Loss: 2.536697\n",
      "Loss: 2.094209\n",
      "Loss: 2.5198364\n",
      "Loss: 2.4208665\n",
      "Loss: 2.5156798\n",
      "Loss: 2.5500512\n",
      "Loss: 1.9125876\n",
      "Loss: 2.496033\n",
      "Loss: 2.2372282\n",
      "Loss: 2.2250853\n",
      "Loss: 2.238473\n",
      "Loss: 2.6655438\n",
      "Loss: 2.0474038\n",
      "Loss: 2.4619071\n",
      "Loss: 2.5652966\n",
      "Loss: 2.2556965\n",
      "Loss: 2.4294877\n",
      "Loss: 2.1936798\n",
      "Loss: 1.8801885\n",
      "Loss: 1.7161896\n",
      "Loss: 2.2408798\n",
      "Loss: 1.9096909\n",
      "Loss: 2.2188463\n",
      "Loss: 1.8410776\n",
      "Loss: 1.6144189\n",
      "Loss: 1.9596899\n",
      "Loss: 1.8165623\n",
      "Loss: 1.9093534\n",
      "Loss: 2.2095146\n",
      "Loss: 2.1384342\n",
      "Loss: 2.0848017\n",
      "Loss: 2.9024303\n",
      "Loss: 1.4294106\n",
      "Loss: 1.8372682\n",
      "Loss: 1.738426\n",
      "Loss: 1.664446\n",
      "Loss: 1.9389684\n",
      "Loss: 1.7850957\n",
      "Loss: 1.5992997\n",
      "Loss: 2.2326307\n",
      "Loss: 1.495856\n",
      "Loss: 1.9121265\n",
      "Loss: 2.258019\n",
      "Loss: 1.335782\n",
      "Loss: 1.4836838\n",
      "Loss: 1.7744672\n",
      "Loss: 1.4244449\n",
      "Loss: 1.4419122\n",
      "Loss: 1.387306\n",
      "Loss: 1.199959\n",
      "Loss: 1.2852272\n",
      "Loss: 2.247222\n",
      "Loss: 1.7566295\n",
      "Loss: 2.0821137\n",
      "Loss: 1.60568\n",
      "Loss: 1.772789\n",
      "Loss: 1.7216957\n",
      "Loss: 1.685456\n",
      "Loss: 2.0585673\n",
      "Loss: 1.9191449\n",
      "Loss: 1.4743569\n",
      "Loss: 1.3462901\n",
      "Loss: 1.7578449\n",
      "Loss: 1.5532825\n",
      "Loss: 1.020716\n",
      "Loss: 0.89545935\n",
      "Loss: 1.5076088\n",
      "Loss: 1.2014879\n"
     ]
    }
   ],
   "source": [
    "grad_sum = jax.tree.map(lambda x: jnp.zeros_like(x), model)\n",
    "\n",
    "for i in range(sequences['input_ids'].shape[0]):\n",
    "    sequence = jax.tree.map(lambda x: x[i], sequences)\n",
    "    \n",
    "    # Calculate loss\n",
    "    rnn_state = model.init_rnn_state()\n",
    "    loss, grads = value_grad_fn(model, rnn_state, sequence)\n",
    "    grad_sum = jax.tree.map(lambda x, y: x + y, grad_sum, grads)\n",
    "\n",
    "    if i % 32 == 0:\n",
    "        grad_sum = jax.tree.map(lambda x: x / 32, grad_sum)\n",
    "        updates, opt_state = optimizer.update(grad_sum, opt_state, model)\n",
    "        model = eqx.apply_updates(model, updates)\n",
    "        grad_sum = jax.tree.map(lambda x: jnp.zeros_like(x), model)\n",
    "\n",
    "    if i % 200 == 0:\n",
    "        print('Loss:', loss)\n",
    "    # print(jax.tree.leaves(jax.tree.map(lambda x, y: y - x, model, new_model)))\n",
    "    # break   "
   ]
  },
  {
   "cell_type": "code",
   "execution_count": 8,
   "metadata": {},
   "outputs": [
    {
     "name": "stdout",
     "output_type": "stream",
     "text": [
      "[0 0 0 8 8 8]\n"
     ]
    }
   ],
   "source": [
    "print(model.forward_sequence(model.init_rnn_state(), jnp.array([8, 9, 8, 0, 8, 9]))[1].argmax(axis=1))"
   ]
  },
  {
   "cell_type": "code",
   "execution_count": null,
   "metadata": {},
   "outputs": [],
   "source": []
  }
 ],
 "metadata": {
  "kernelspec": {
   "display_name": "intract",
   "language": "python",
   "name": "python3"
  },
  "language_info": {
   "codemirror_mode": {
    "name": "ipython",
    "version": 3
   },
   "file_extension": ".py",
   "mimetype": "text/x-python",
   "name": "python",
   "nbconvert_exporter": "python",
   "pygments_lexer": "ipython3",
   "version": "3.9.16"
  }
 },
 "nbformat": 4,
 "nbformat_minor": 2
}
