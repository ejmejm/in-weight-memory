{
 "cells": [
  {
   "cell_type": "code",
   "execution_count": 1,
   "metadata": {},
   "outputs": [],
   "source": [
    "import equinox as eqx\n",
    "import jax\n",
    "import jax.numpy as jnp\n",
    "import optax\n",
    "\n",
    "from models.models import SupervisedModel\n",
    "from tasks import decode_sequence, gen_train_sequence\n",
    "from training import apply_grads, supervised_loss_and_grads, TrainState\n",
    "from utils import tree_replace"
   ]
  },
  {
   "cell_type": "code",
   "execution_count": 2,
   "metadata": {},
   "outputs": [],
   "source": [
    "VOCAB_SIZE = 39\n",
    "SEQ_LEN = 7\n",
    "\n",
    "learning_rate = 3e-4\n",
    "tbptt_window = 40\n",
    "\n",
    "vocab_size = VOCAB_SIZE\n",
    "output_dim = VOCAB_SIZE\n",
    "embedding_dim = 64\n",
    "layer_sizes = [512, 512, 512, 512]\n",
    "recurrent_layer_indices = [1, 2]"
   ]
  },
  {
   "cell_type": "code",
   "execution_count": 3,
   "metadata": {},
   "outputs": [],
   "source": [
    "rng = jax.random.PRNGKey(0)\n",
    "model_key, train_key, rng = jax.random.split(rng, 3)\n",
    "\n",
    "model = SupervisedModel(\n",
    "    rng = model_key,\n",
    "    vocab_size = vocab_size,\n",
    "    embedding_dim = embedding_dim,\n",
    "    layer_sizes = layer_sizes,\n",
    "    output_dim = output_dim,\n",
    "    recurrent_layer_indices = recurrent_layer_indices,\n",
    ")\n",
    "\n",
    "optimizer = optax.adam(learning_rate)\n",
    "opt_state = optimizer.init(model)"
   ]
  },
  {
   "cell_type": "code",
   "execution_count": 4,
   "metadata": {},
   "outputs": [
    {
     "name": "stdout",
     "output_type": "stream",
     "text": [
      "{'input_ids': (20000, 6), 'loss_mask': (20000, 6), 'target_ids': (20000, 6)}\n",
      "{'input_ids': Array([ 8, 32,  6,  0,  8, 32], dtype=int32), 'loss_mask': Array([0, 0, 1, 1, 1, 1], dtype=int32), 'target_ids': Array([32,  6,  0,  8, 32,  6], dtype=int32)}\n"
     ]
    }
   ],
   "source": [
    "n = 20000\n",
    "single_seq_len = (SEQ_LEN - 1) // 2\n",
    "input_ids = jax.random.randint(rng, (n, single_seq_len), 1, vocab_size)\n",
    "dividers = jnp.zeros((n, 1))\n",
    "input_ids = jnp.concatenate([input_ids, dividers, input_ids], axis=1, dtype=int)\n",
    "sequences = {\n",
    "    'input_ids': input_ids[:, :-1],\n",
    "    'target_ids': input_ids[:, 1:],\n",
    "    'loss_mask': jnp.concat([\n",
    "        jnp.zeros((n, single_seq_len - 1)), jnp.ones((n, single_seq_len + 1))\n",
    "    ], axis=1).astype(int),\n",
    "}\n",
    "print(jax.tree.map(lambda x: x.shape, sequences))\n",
    "print(jax.tree.map(lambda x: x[0], sequences))\n",
    "\n",
    "# n = 20000\n",
    "# gen_train_sequences = jax.vmap(gen_train_sequence, in_axes=(0, None, None, None, None, None))\n",
    "# sequences = gen_train_sequences(\n",
    "#     jax.random.split(jax.random.PRNGKey(0), n),\n",
    "#     2, 2, 3, 26, 10,\n",
    "# )\n",
    "\n",
    "# print(jax.tree.map(lambda x: x.shape, sequences))\n",
    "# print(jax.tree.map(lambda x: x[0], sequences))"
   ]
  },
  {
   "cell_type": "code",
   "execution_count": 5,
   "metadata": {},
   "outputs": [],
   "source": [
    "def loss_fn(model: eqx.Module, rnn_state, sequence):\n",
    "    input_tokens = sequence['input_ids']\n",
    "    target_tokens = sequence['target_ids']\n",
    "    loss_mask = sequence['loss_mask']\n",
    "\n",
    "    rnn_state, logits = model.forward_sequence(rnn_state, input_tokens)\n",
    "    loss = optax.softmax_cross_entropy_with_integer_labels(logits, target_tokens)\n",
    "    loss = loss * loss_mask\n",
    "    return loss.sum() / loss_mask.sum()\n",
    "\n",
    "value_grad_fn = eqx.filter_value_and_grad(loss_fn)\n",
    "value_grad_fn = eqx.filter_jit(value_grad_fn)"
   ]
  },
  {
   "cell_type": "code",
   "execution_count": 6,
   "metadata": {},
   "outputs": [
    {
     "name": "stdout",
     "output_type": "stream",
     "text": [
      "4516839\n"
     ]
    }
   ],
   "source": [
    "# Count model params\n",
    "import math\n",
    "print(sum(jax.tree.leaves(jax.tree.map(lambda x: math.prod(x.shape), model))))"
   ]
  },
  {
   "cell_type": "code",
   "execution_count": 7,
   "metadata": {},
   "outputs": [
    {
     "name": "stdout",
     "output_type": "stream",
     "text": [
      "Loss: 3.6674246788024902\n",
      "Loss: 3.6498289108276367\n",
      "Loss: 3.5838427543640137\n",
      "Loss: 3.4177143573760986\n",
      "Loss: 3.25270938873291\n",
      "Loss: 2.9945335388183594\n",
      "Loss: 2.7831203937530518\n",
      "Loss: 2.7485907077789307\n",
      "Loss: 2.7455132007598877\n",
      "Loss: 2.740182399749756\n",
      "Loss: 2.7428295612335205\n",
      "Loss: 2.740185260772705\n",
      "Loss: 2.740895986557007\n",
      "Loss: 2.7371928691864014\n",
      "Loss: 2.734788179397583\n",
      "Loss: 2.740821361541748\n",
      "Loss: 2.7331976890563965\n",
      "Loss: 2.7367303371429443\n",
      "Loss: 2.7345945835113525\n",
      "Loss: 2.73360276222229\n",
      "Loss: 2.734902858734131\n",
      "Loss: 2.7310333251953125\n",
      "Loss: 2.7313005924224854\n",
      "Loss: 2.724963665008545\n",
      "Loss: 2.730478525161743\n",
      "Loss: 2.720276355743408\n",
      "Loss: 2.707827091217041\n",
      "Loss: 2.6909213066101074\n",
      "Loss: 2.666843891143799\n",
      "Loss: 2.6484904289245605\n",
      "Loss: 2.6150712966918945\n",
      "Loss: 2.581392765045166\n",
      "Loss: 2.4990134239196777\n",
      "Loss: 2.4421441555023193\n",
      "Loss: 2.356104612350464\n",
      "Loss: 2.3025190830230713\n",
      "Loss: 2.2855443954467773\n",
      "Loss: 2.2544915676116943\n",
      "Loss: 2.232795238494873\n",
      "Loss: 2.174999713897705\n",
      "Loss: 2.152414321899414\n",
      "Loss: 2.0906388759613037\n",
      "Loss: 2.052964925765991\n",
      "Loss: 2.0018084049224854\n",
      "Loss: 1.9717134237289429\n",
      "Loss: 1.9287488460540771\n",
      "Loss: 1.9322060346603394\n",
      "Loss: 1.8879384994506836\n",
      "Loss: 1.8782496452331543\n",
      "Loss: 1.8736824989318848\n",
      "Loss: 1.8356164693832397\n",
      "Loss: 1.8467975854873657\n",
      "Loss: 1.7977144718170166\n",
      "Loss: 1.7405829429626465\n",
      "Loss: 1.749355435371399\n",
      "Loss: 1.759851336479187\n",
      "Loss: 1.6824861764907837\n",
      "Loss: 1.697020173072815\n",
      "Loss: 1.6693753004074097\n",
      "Loss: 1.6462458372116089\n",
      "Loss: 1.61333429813385\n",
      "Loss: 1.6186964511871338\n",
      "Loss: 1.5938694477081299\n",
      "Loss: 1.5804742574691772\n",
      "Loss: 1.5407816171646118\n",
      "Loss: 1.5306360721588135\n",
      "Loss: 1.525329351425171\n",
      "Loss: 1.5246615409851074\n",
      "Loss: 1.5076018571853638\n",
      "Loss: 1.5249696969985962\n",
      "Loss: 1.4677700996398926\n",
      "Loss: 1.46955406665802\n",
      "Loss: 1.4883478879928589\n",
      "Loss: 1.455504298210144\n",
      "Loss: 1.4548181295394897\n",
      "Loss: 1.4379152059555054\n",
      "Loss: 1.45021390914917\n",
      "Loss: 1.4326339960098267\n",
      "Loss: 1.3993412256240845\n",
      "Loss: 1.3902571201324463\n",
      "Loss: 1.3677446842193604\n",
      "Loss: 1.3668344020843506\n",
      "Loss: 1.3610427379608154\n",
      "Loss: 1.3512262105941772\n",
      "Loss: 1.3463338613510132\n",
      "Loss: 1.3568601608276367\n",
      "Loss: 1.3143389225006104\n",
      "Loss: 1.318394422531128\n",
      "Loss: 1.281975269317627\n",
      "Loss: 1.2848567962646484\n",
      "Loss: 1.304340124130249\n",
      "Loss: 1.3015773296356201\n",
      "Loss: 1.3162821531295776\n",
      "Loss: 1.2758033275604248\n",
      "Loss: 1.2545562982559204\n",
      "Loss: 1.2284142971038818\n",
      "Loss: 1.2256991863250732\n",
      "Loss: 1.2163881063461304\n",
      "Loss: 1.1988725662231445\n",
      "Loss: 1.2094707489013672\n"
     ]
    }
   ],
   "source": [
    "grad_sum = jax.tree.map(lambda x: jnp.zeros_like(x), model)\n",
    "loss_hist = []\n",
    "\n",
    "for i in range(sequences['input_ids'].shape[0]):\n",
    "    sequence = jax.tree.map(lambda x: x[i], sequences)\n",
    "    \n",
    "    # Calculate loss\n",
    "    rnn_state = model.init_rnn_state()\n",
    "    loss, grads = value_grad_fn(model, rnn_state, sequence)\n",
    "    loss_hist.append(loss)\n",
    "    grad_sum = jax.tree.map(lambda x, y: x + y, grad_sum, grads)\n",
    "\n",
    "    if i % 32 == 0:\n",
    "        grad_sum = jax.tree.map(lambda x: x / 32, grad_sum)\n",
    "        updates, opt_state = optimizer.update(grad_sum, opt_state, model)\n",
    "        model = eqx.apply_updates(model, updates)\n",
    "        grad_sum = jax.tree.map(lambda x: jnp.zeros_like(x), model)\n",
    "\n",
    "    if i % 200 == 0:\n",
    "        print(f'Loss: {jnp.mean(jnp.array(loss_hist))}')\n",
    "        loss_hist = []\n",
    "    # print(jax.tree.leaves(jax.tree.map(lambda x, y: y - x, model, new_model)))\n",
    "    # break   "
   ]
  },
  {
   "cell_type": "code",
   "execution_count": 8,
   "metadata": {},
   "outputs": [
    {
     "name": "stdout",
     "output_type": "stream",
     "text": [
      "[0 0 0 8 9 5]\n"
     ]
    }
   ],
   "source": [
    "print(model.forward_sequence(model.init_rnn_state(), jnp.array([8, 9, 8, 0, 8, 9]))[1].argmax(axis=1))"
   ]
  },
  {
   "cell_type": "code",
   "execution_count": null,
   "metadata": {},
   "outputs": [],
   "source": []
  }
 ],
 "metadata": {
  "kernelspec": {
   "display_name": "intract",
   "language": "python",
   "name": "python3"
  },
  "language_info": {
   "codemirror_mode": {
    "name": "ipython",
    "version": 3
   },
   "file_extension": ".py",
   "mimetype": "text/x-python",
   "name": "python",
   "nbconvert_exporter": "python",
   "pygments_lexer": "ipython3",
   "version": "3.9.16"
  }
 },
 "nbformat": 4,
 "nbformat_minor": 2
}
