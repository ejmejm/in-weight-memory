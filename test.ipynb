{
 "cells": [
  {
   "cell_type": "code",
   "execution_count": 1,
   "metadata": {},
   "outputs": [],
   "source": [
    "import equinox as eqx\n",
    "import jax\n",
    "import jax.numpy as jnp\n",
    "import optax\n",
    "\n",
    "from models.models import SupervisedModel\n",
    "from tasks import decode_sequence, gen_train_sequence\n",
    "from training import apply_grads, supervised_loss_and_grads, TrainState\n",
    "from utils import tree_replace"
   ]
  },
  {
   "cell_type": "code",
   "execution_count": 2,
   "metadata": {},
   "outputs": [],
   "source": [
    "VOCAB_SIZE = 39\n",
    "SEQ_LEN = 7\n",
    "\n",
    "learning_rate = 3e-4\n",
    "tbptt_window = 40\n",
    "\n",
    "vocab_size = VOCAB_SIZE\n",
    "output_dim = VOCAB_SIZE\n",
    "embedding_dim = 64\n",
    "layer_sizes = [512, 512, 512, 512]\n",
    "recurrent_layer_indices = [1, 2]"
   ]
  },
  {
   "cell_type": "code",
   "execution_count": 3,
   "metadata": {},
   "outputs": [],
   "source": [
    "rng = jax.random.PRNGKey(0)\n",
    "model_key, train_key, rng = jax.random.split(rng, 3)\n",
    "\n",
    "model = SupervisedModel(\n",
    "    rng = model_key,\n",
    "    vocab_size = vocab_size,\n",
    "    embedding_dim = embedding_dim,\n",
    "    layer_sizes = layer_sizes,\n",
    "    output_dim = output_dim,\n",
    "    recurrent_layer_indices = recurrent_layer_indices,\n",
    ")\n",
    "\n",
    "optimizer = optax.adam(learning_rate)\n",
    "opt_state = optimizer.init(model)"
   ]
  },
  {
   "cell_type": "code",
   "execution_count": 4,
   "metadata": {},
   "outputs": [
    {
     "name": "stdout",
     "output_type": "stream",
     "text": [
      "{'input_ids': (20000, 6), 'loss_mask': (20000, 6), 'target_ids': (20000, 6)}\n",
      "{'input_ids': Array([ 8, 32,  6,  0,  8, 32], dtype=int32), 'loss_mask': Array([0, 0, 1, 1, 1, 1], dtype=int32), 'target_ids': Array([32,  6,  0,  8, 32,  6], dtype=int32)}\n"
     ]
    }
   ],
   "source": [
    "n = 20000\n",
    "single_seq_len = (SEQ_LEN - 1) // 2\n",
    "input_ids = jax.random.randint(rng, (n, single_seq_len), 1, vocab_size)\n",
    "dividers = jnp.zeros((n, 1))\n",
    "input_ids = jnp.concatenate([input_ids, dividers, input_ids], axis=1, dtype=int)\n",
    "sequences = {\n",
    "    'input_ids': input_ids[:, :-1],\n",
    "    'target_ids': input_ids[:, 1:],\n",
    "    'loss_mask': jnp.concat([\n",
    "        jnp.zeros((n, single_seq_len - 1)), jnp.ones((n, single_seq_len + 1))\n",
    "    ], axis=1).astype(int),\n",
    "}\n",
    "print(jax.tree.map(lambda x: x.shape, sequences))\n",
    "print(jax.tree.map(lambda x: x[0], sequences))\n",
    "\n",
    "# n = 20000\n",
    "# gen_train_sequences = jax.vmap(gen_train_sequence, in_axes=(0, None, None, None, None, None))\n",
    "# sequences = gen_train_sequences(\n",
    "#     jax.random.split(jax.random.PRNGKey(0), n),\n",
    "#     2, 2, 3, 26, 10,\n",
    "# )\n",
    "\n",
    "# print(jax.tree.map(lambda x: x.shape, sequences))\n",
    "# print(jax.tree.map(lambda x: x[0], sequences))"
   ]
  },
  {
   "cell_type": "code",
   "execution_count": 5,
   "metadata": {},
   "outputs": [],
   "source": [
    "def loss_fn(model: eqx.Module, rnn_state, sequence):\n",
    "    input_tokens = sequence['input_ids']\n",
    "    target_tokens = sequence['target_ids']\n",
    "    loss_mask = sequence['loss_mask']\n",
    "\n",
    "    rnn_state, logits = model.forward_sequence(rnn_state, input_tokens)\n",
    "    loss = optax.softmax_cross_entropy_with_integer_labels(logits, target_tokens)\n",
    "    loss = loss * loss_mask\n",
    "    return loss.sum() / loss_mask.sum()\n",
    "\n",
    "value_grad_fn = eqx.filter_value_and_grad(loss_fn)\n",
    "value_grad_fn = eqx.filter_jit(value_grad_fn)"
   ]
  },
  {
   "cell_type": "code",
   "execution_count": 6,
   "metadata": {},
   "outputs": [
    {
     "name": "stdout",
     "output_type": "stream",
     "text": [
      "11900919\n"
     ]
    }
   ],
   "source": [
    "# Count model params\n",
    "import math\n",
    "print(sum(jax.tree.leaves(jax.tree.map(lambda x: math.prod(x.shape), model))))"
   ]
  },
  {
   "cell_type": "code",
   "execution_count": 7,
   "metadata": {},
   "outputs": [
    {
     "name": "stdout",
     "output_type": "stream",
     "text": [
      "Loss: 3.6471848487854004\n",
      "Loss: 3.4602041244506836\n",
      "Loss: 3.1682755947113037\n",
      "Loss: 2.950983762741089\n"
     ]
    }
   ],
   "source": [
    "grad_sum = jax.tree.map(lambda x: jnp.zeros_like(x), model)\n",
    "loss_hist = []\n",
    "\n",
    "for i in range(sequences['input_ids'].shape[0]):\n",
    "    sequence = jax.tree.map(lambda x: x[i], sequences)\n",
    "    \n",
    "    # Calculate loss\n",
    "    rnn_state = model.init_rnn_state()\n",
    "    loss, grads = value_grad_fn(model, rnn_state, sequence)\n",
    "    loss_hist.append(loss)\n",
    "    grad_sum = jax.tree.map(lambda x, y: x + y, grad_sum, grads)\n",
    "\n",
    "    if i % 32 == 0:\n",
    "        grad_sum = jax.tree.map(lambda x: x / 32, grad_sum)\n",
    "        updates, opt_state = optimizer.update(grad_sum, opt_state, model)\n",
    "        model = eqx.apply_updates(model, updates)\n",
    "        grad_sum = jax.tree.map(lambda x: jnp.zeros_like(x), model)\n",
    "\n",
    "    if i % 200 == 0:\n",
    "        print(f'Loss: {jnp.mean(jnp.array(loss_hist))}')\n",
    "        loss_hist = []\n",
    "    # print(jax.tree.leaves(jax.tree.map(lambda x, y: y - x, model, new_model)))\n",
    "    # break   "
   ]
  },
  {
   "cell_type": "code",
   "execution_count": null,
   "metadata": {},
   "outputs": [],
   "source": []
  }
 ],
 "metadata": {
  "kernelspec": {
   "display_name": "intract",
   "language": "python",
   "name": "python3"
  },
  "language_info": {
   "codemirror_mode": {
    "name": "ipython",
    "version": 3
   },
   "file_extension": ".py",
   "mimetype": "text/x-python",
   "name": "python",
   "nbconvert_exporter": "python",
   "pygments_lexer": "ipython3",
   "version": "3.9.16"
  }
 },
 "nbformat": 4,
 "nbformat_minor": 2
}
