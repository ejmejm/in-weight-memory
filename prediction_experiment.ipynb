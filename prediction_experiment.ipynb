{
 "cells": [
  {
   "cell_type": "code",
   "execution_count": 2,
   "metadata": {},
   "outputs": [],
   "source": [
    "import math\n",
    "import sys\n",
    "sys.path.append('minGPT/')\n",
    "\n",
    "import matplotlib.pyplot as plt\n",
    "import torch\n",
    "from tqdm import tqdm\n",
    "\n",
    "from mingpt.bpe import BPETokenizer\n",
    "from mingpt.model import GPT\n",
    "from mingpt.utils import setup_logging\n",
    "\n",
    "from config_setup import get_config\n",
    "from data_handling import *\n",
    "from training import *\n",
    "\n",
    "%matplotlib inline"
   ]
  },
  {
   "cell_type": "code",
   "execution_count": 3,
   "metadata": {},
   "outputs": [],
   "source": [
    "### Create the tokenizer ###\n",
    "\n",
    "tokenizer = BPETokenizer()\n",
    "tokenizer.pad_token_id = tokenizer.encoder.encoder['<|endoftext|>']\n",
    "\n",
    "### Prepare the config ###\n",
    "\n",
    "config = get_config([])\n",
    "config.merge_from_dict({\n",
    "    'model.vocab_size': len(tokenizer.encoder.encoder),\n",
    "    'model.block_size': 16,\n",
    "    'model.model_type': None,\n",
    "    'model.n_layer': 1,\n",
    "    'model.n_head': 4,\n",
    "    'model.n_embd': 256,\n",
    "    'model.fc_mem_dim': 128,\n",
    "    'trainer.batch_size': 128,\n",
    "    'trainer.epochs': 1,\n",
    "    'trainer.max_samples': 200_000,\n",
    "})\n",
    "\n",
    "batch_size = config.trainer.batch_size\n",
    "device = config.trainer.device\n",
    "\n",
    "# print(config)\n",
    "setup_logging(config)\n",
    "\n",
    "if config.system.wandb:\n",
    "    import wandb\n",
    "    tags = [config.system.tag] if config.system.tag else None\n",
    "    wandb.init(project=config.system.project, sync_tensorboard=True,\n",
    "                config=config.to_dict(), tags=tags)"
   ]
  },
  {
   "cell_type": "code",
   "execution_count": 4,
   "metadata": {},
   "outputs": [
    {
     "name": "stderr",
     "output_type": "stream",
     "text": [
      "/home/edan/miniconda3/envs/intract/lib/python3.9/site-packages/datasets/load.py:2491: FutureWarning: 'ignore_verifications' was deprecated in favor of 'verification_mode' in version 2.9.1 and will be removed in 3.0.0.\n",
      "You can remove this warning by passing 'verification_mode=no_checks' instead.\n",
      "  warnings.warn(\n"
     ]
    }
   ],
   "source": [
    "### Prepare the data ###\n",
    "\n",
    "datasets = prepare_data(config)\n",
    "dataloaders = prepare_dataloaders(datasets, tokenizer, config)\n",
    "\n",
    "train_loader = dataloaders['train']\n",
    "val_loader = dataloaders['val']\n",
    "test_loader = dataloaders['test']"
   ]
  },
  {
   "cell_type": "code",
   "execution_count": 13,
   "metadata": {},
   "outputs": [
    {
     "name": "stdout",
     "output_type": "stream",
     "text": [
      "number of parameters: 13.69M\n"
     ]
    }
   ],
   "source": [
    "model = GPT(config.model)\n",
    "model = model.to(config.trainer.device)\n",
    "optimizer = model.configure_optimizers(config.trainer)\n",
    "model.reset_memory(batch_size)\n",
    "\n",
    "ltm_optimizer = torch.optim.AdamW(\n",
    "    optimizer.param_groups[:2],\n",
    "    lr = config.trainer.learning_rate,\n",
    "    betas = config.trainer.betas,\n",
    ")\n",
    "stm_optimizer = torch.optim.Adam(\n",
    "    optimizer.param_groups[2:],\n",
    "    lr = 0.01,\n",
    "    betas = config.trainer.betas,\n",
    ")\n",
    "\n",
    "del optimizer"
   ]
  },
  {
   "cell_type": "code",
   "execution_count": 14,
   "metadata": {},
   "outputs": [
    {
     "name": "stderr",
     "output_type": "stream",
     "text": [
      "Loss: 4.4154: 100%|█████████▉| 177792/178048 [26:54<00:02, 110.14it/s]\n",
      "Loss: 1.2979: 100%|█████████▉| 177792/178048 [02:49<00:00, 980.18it/s] "
     ]
    }
   ],
   "source": [
    "# Data queue is a list of input, output sequence pairs\n",
    "data_iter = iter(dataloaders['train'])\n",
    "curr_sequences = next(data_iter)\n",
    "model.reset_memory(len(curr_sequences['input_ids']))\n",
    "\n",
    "\n",
    "epoch = 0\n",
    "bar = tqdm(\n",
    "    total = len(train_loader) * config.trainer.batch_size * config.trainer.epochs,\n",
    "    desc = f'Loss: {0:.4f}',\n",
    "    position = 0,\n",
    ")\n",
    "\n",
    "losses = []\n",
    "while epoch < config.trainer.epochs:\n",
    "    # If the current sequence is empty, get the next batch of sequences\n",
    "    if curr_sequences['input_ids'].shape[1] == 0:\n",
    "        try:\n",
    "            curr_sequences = next(data_iter)\n",
    "            if curr_sequences['input_ids'].shape[0] != config.trainer.batch_size:\n",
    "                raise StopIteration\n",
    "            # print('-- reset memories --')\n",
    "            model.reset_memory(len(curr_sequences['input_ids']))\n",
    "            # sample_iter += curr_sequences['input_ids'].shape[0]\n",
    "            bar.update(curr_sequences['input_ids'].shape[0])\n",
    "        except StopIteration:\n",
    "            data_iter = iter(dataloaders['train'])\n",
    "            epoch += 1\n",
    "            continue\n",
    "\n",
    "    \n",
    "    # Create a training batch from a portion of the current sequences\n",
    "    batch = {k: v[:, :config.model.block_size].to(config.trainer.device) for k, v in curr_sequences.items()}\n",
    "    curr_sequences = {k: v[:, config.model.block_size:] for k, v in curr_sequences.items()}\n",
    "\n",
    "    input_ids = batch['input_ids'].to(config.trainer.device)\n",
    "    labels = batch['labels'].to(config.trainer.device)\n",
    "\n",
    "    # Learn to work with the memory\n",
    "    _, loss = model(input_ids, labels)\n",
    "\n",
    "    ltm_optimizer.zero_grad()\n",
    "    loss.backward()\n",
    "    ltm_optimizer.step()\n",
    "\n",
    "    losses.append(loss.item())\n",
    "    bar.set_description(f\"Loss: {loss.item():.4f}\")\n",
    "\n",
    "    # # Memorize the current sequence\n",
    "    # for _ in range(10):\n",
    "    #     _, loss = model(input_ids, labels)\n",
    "\n",
    "    #     stm_optimizer.zero_grad()\n",
    "    #     loss.backward()\n",
    "    #     stm_optimizer.step()"
   ]
  },
  {
   "cell_type": "code",
   "execution_count": 16,
   "metadata": {},
   "outputs": [],
   "source": [
    "# no_mem_losses = losses\n",
    "# mem_losses = losses\n",
    "# double_mem_losses = losses"
   ]
  },
  {
   "cell_type": "code",
   "execution_count": 17,
   "metadata": {},
   "outputs": [],
   "source": [
    "def bucket_mean(data, n):\n",
    "    bucket_size = math.ceil(len(data) / n)\n",
    "    return [sum(data[i:i+bucket_size]) / len(data[i:i+bucket_size]) for i in range(0, len(data), bucket_size)]"
   ]
  },
  {
   "cell_type": "code",
   "execution_count": 18,
   "metadata": {},
   "outputs": [
    {
     "data": {
      "text/plain": [
       "[<matplotlib.lines.Line2D at 0x7fb3bbffd400>]"
      ]
     },
     "execution_count": 18,
     "metadata": {},
     "output_type": "execute_result"
    },
    {
     "data": {
      "image/png": "[encoded data removed]",
      "text/plain": [
       "<Figure size 640x480 with 1 Axes>"
      ]
     },
     "metadata": {},
     "output_type": "display_data"
    }
   ],
   "source": [
    "plt.plot(bucket_mean(no_mem_losses, 100))\n",
    "plt.plot(bucket_mean(mem_losses, 100))"
   ]
  },
  {
   "cell_type": "code",
   "execution_count": null,
   "metadata": {},
   "outputs": [],
   "source": []
  }
 ],
 "metadata": {
  "kernelspec": {
   "display_name": "intract",
   "language": "python",
   "name": "python3"
  },
  "language_info": {
   "codemirror_mode": {
    "name": "ipython",
    "version": 3
   },
   "file_extension": ".py",
   "mimetype": "text/x-python",
   "name": "python",
   "nbconvert_exporter": "python",
   "pygments_lexer": "ipython3",
   "version": "3.9.16"
  }
 },
 "nbformat": 4,
 "nbformat_minor": 2
}
