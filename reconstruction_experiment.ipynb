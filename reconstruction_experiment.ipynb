{
 "cells": [
  {
   "cell_type": "code",
   "execution_count": 1,
   "metadata": {},
   "outputs": [],
   "source": [
    "# What to do next time\n",
    "# 1. Think of problem setting I want to focus on (continual stream forever, or just long but not infinitely long)\n",
    "# 2. Test if adding memory to attention layers, adding more layers, and adding more memory units helps or hurts.\n",
    "# 3. Think of how I can get memory to hold more information without having to perform backprop on the same sequence 10+ times.\n",
    "#    Maybe do updates for each token forward pass (even though they happen in parallel?).\n",
    "#    Perhaps consider an update rule other than backprop. We don't necessarily even need to have the same objective\n",
    "#    for the memory as the overall model.\n",
    "# 4. Updating the full model + memory at the same time made a significant difference, but you generally don't want to\n",
    "#    update the same model on the same data multiple times for iid data and computational efficiency reasons (I think),\n",
    "#    so I need to think about what the training loop should look like as a whole."
   ]
  },
  {
   "cell_type": "code",
   "execution_count": 2,
   "metadata": {},
   "outputs": [
    {
     "name": "stderr",
     "output_type": "stream",
     "text": [
      "2024-05-07 15:29:53.938007: I tensorflow/core/platform/cpu_feature_guard.cc:210] This TensorFlow binary is optimized to use available CPU instructions in performance-critical operations.\n",
      "To enable the following instructions: AVX2 FMA, in other operations, rebuild TensorFlow with the appropriate compiler flags.\n",
      "2024-05-07 15:29:54.721363: W tensorflow/compiler/tf2tensorrt/utils/py_utils.cc:38] TF-TRT Warning: Could not find TensorRT\n"
     ]
    }
   ],
   "source": [
    "import os\n",
    "import random\n",
    "import string\n",
    "import sys\n",
    "sys.path.append('minGPT/')\n",
    "\n",
    "import torch\n",
    "from torch.utils.tensorboard import SummaryWriter\n",
    "from tqdm import tqdm\n",
    "\n",
    "from mingpt.bpe import BPETokenizer\n",
    "from mingpt.model import GPT\n",
    "from mingpt.utils import set_seed, setup_logging\n",
    "\n",
    "from config_setup import get_config\n",
    "from data_handling import *\n",
    "from training import *"
   ]
  },
  {
   "cell_type": "code",
   "execution_count": 3,
   "metadata": {},
   "outputs": [],
   "source": [
    "### Prepare the config ###\n",
    "\n",
    "config = get_config([])\n",
    "config.merge_from_dict({\n",
    "    'model.vocab_size': 10,\n",
    "    'model.block_size': 16,\n",
    "    'model.model_type': None,\n",
    "    'model.n_layer': 1,\n",
    "    'model.n_head': 4,\n",
    "    'model.n_embd': 512,\n",
    "    'model.fc_mem_dim': 256,\n",
    "    'trainer.batch_size': 32,\n",
    "    'trainer.device': 'cuda',\n",
    "})\n",
    "\n",
    "batch_size = config.trainer.batch_size\n",
    "device = config.trainer.device\n",
    "\n",
    "# print(config)\n",
    "setup_logging(config)\n",
    "\n",
    "if config.system.wandb:\n",
    "    import wandb\n",
    "    tags = [config.system.tag] if config.system.tag else None\n",
    "    wandb.init(project=config.system.project, sync_tensorboard=True,\n",
    "                config=config.to_dict(), tags=tags)"
   ]
  },
  {
   "cell_type": "code",
   "execution_count": 4,
   "metadata": {},
   "outputs": [],
   "source": [
    "n_samples = 1_000_000\n",
    "n_test = 10_000\n",
    "n_train = n_samples - n_test\n",
    "\n",
    "dataset = torch.randint(0, config.model.vocab_size, (n_samples, config.model.block_size))\n",
    "dataset[:, 0] = 0 # Always start with 0\n",
    "\n",
    "train_data = dataset[:-n_test]\n",
    "test_data = dataset[-n_test:]"
   ]
  },
  {
   "cell_type": "code",
   "execution_count": 5,
   "metadata": {},
   "outputs": [
    {
     "name": "stdout",
     "output_type": "stream",
     "text": [
      "number of parameters: 3.30M\n"
     ]
    }
   ],
   "source": [
    "model = GPT(config.model)\n",
    "model = model.to(config.trainer.device)\n",
    "optimizer = model.configure_optimizers(config.trainer)\n",
    "model.reset_memory(batch_size)\n",
    "\n",
    "ltm_optimizer = torch.optim.AdamW(\n",
    "    optimizer.param_groups[:2],\n",
    "    lr = config.trainer.learning_rate,\n",
    "    betas = config.trainer.betas,\n",
    ")\n",
    "stm_optimizer = torch.optim.Adam(\n",
    "    optimizer.param_groups[2:],\n",
    "    lr = 0.01,\n",
    "    betas = config.trainer.betas,\n",
    ")\n",
    "\n",
    "del optimizer"
   ]
  },
  {
   "cell_type": "code",
   "execution_count": 6,
   "metadata": {},
   "outputs": [
    {
     "name": "stderr",
     "output_type": "stream",
     "text": [
      "Loss: 2.3037:  26%|██▌       | 7951/30938 [00:43<02:05, 183.67it/s]\n"
     ]
    },
    {
     "ename": "KeyboardInterrupt",
     "evalue": "",
     "output_type": "error",
     "traceback": [
      "\u001b[0;31m---------------------------------------------------------------------------\u001b[0m",
      "\u001b[0;31mKeyboardInterrupt\u001b[0m                         Traceback (most recent call last)",
      "Cell \u001b[0;32mIn[6], line 30\u001b[0m\n\u001b[1;32m     27\u001b[0m _, loss \u001b[38;5;241m=\u001b[39m model(X, y)\n\u001b[1;32m     29\u001b[0m ltm_optimizer\u001b[38;5;241m.\u001b[39mzero_grad()\n\u001b[0;32m---> 30\u001b[0m \u001b[43mloss\u001b[49m\u001b[38;5;241;43m.\u001b[39;49m\u001b[43mbackward\u001b[49m\u001b[43m(\u001b[49m\u001b[43m)\u001b[49m\n\u001b[1;32m     31\u001b[0m ltm_optimizer\u001b[38;5;241m.\u001b[39mstep()\n\u001b[1;32m     33\u001b[0m bar\u001b[38;5;241m.\u001b[39mset_description(\u001b[38;5;124mf\u001b[39m\u001b[38;5;124m\"\u001b[39m\u001b[38;5;124mLoss: \u001b[39m\u001b[38;5;132;01m{\u001b[39;00mloss\u001b[38;5;241m.\u001b[39mitem()\u001b[38;5;132;01m:\u001b[39;00m\u001b[38;5;124m.4f\u001b[39m\u001b[38;5;132;01m}\u001b[39;00m\u001b[38;5;124m\"\u001b[39m)\n",
      "File \u001b[0;32m~/miniconda3/envs/intract/lib/python3.9/site-packages/torch/_tensor.py:492\u001b[0m, in \u001b[0;36mTensor.backward\u001b[0;34m(self, gradient, retain_graph, create_graph, inputs)\u001b[0m\n\u001b[1;32m    482\u001b[0m \u001b[38;5;28;01mif\u001b[39;00m has_torch_function_unary(\u001b[38;5;28mself\u001b[39m):\n\u001b[1;32m    483\u001b[0m     \u001b[38;5;28;01mreturn\u001b[39;00m handle_torch_function(\n\u001b[1;32m    484\u001b[0m         Tensor\u001b[38;5;241m.\u001b[39mbackward,\n\u001b[1;32m    485\u001b[0m         (\u001b[38;5;28mself\u001b[39m,),\n\u001b[0;32m   (...)\u001b[0m\n\u001b[1;32m    490\u001b[0m         inputs\u001b[38;5;241m=\u001b[39minputs,\n\u001b[1;32m    491\u001b[0m     )\n\u001b[0;32m--> 492\u001b[0m \u001b[43mtorch\u001b[49m\u001b[38;5;241;43m.\u001b[39;49m\u001b[43mautograd\u001b[49m\u001b[38;5;241;43m.\u001b[39;49m\u001b[43mbackward\u001b[49m\u001b[43m(\u001b[49m\n\u001b[1;32m    493\u001b[0m \u001b[43m    \u001b[49m\u001b[38;5;28;43mself\u001b[39;49m\u001b[43m,\u001b[49m\u001b[43m \u001b[49m\u001b[43mgradient\u001b[49m\u001b[43m,\u001b[49m\u001b[43m \u001b[49m\u001b[43mretain_graph\u001b[49m\u001b[43m,\u001b[49m\u001b[43m \u001b[49m\u001b[43mcreate_graph\u001b[49m\u001b[43m,\u001b[49m\u001b[43m \u001b[49m\u001b[43minputs\u001b[49m\u001b[38;5;241;43m=\u001b[39;49m\u001b[43minputs\u001b[49m\n\u001b[1;32m    494\u001b[0m \u001b[43m\u001b[49m\u001b[43m)\u001b[49m\n",
      "File \u001b[0;32m~/miniconda3/envs/intract/lib/python3.9/site-packages/torch/autograd/__init__.py:251\u001b[0m, in \u001b[0;36mbackward\u001b[0;34m(tensors, grad_tensors, retain_graph, create_graph, grad_variables, inputs)\u001b[0m\n\u001b[1;32m    246\u001b[0m     retain_graph \u001b[38;5;241m=\u001b[39m create_graph\n\u001b[1;32m    248\u001b[0m \u001b[38;5;66;03m# The reason we repeat the same comment below is that\u001b[39;00m\n\u001b[1;32m    249\u001b[0m \u001b[38;5;66;03m# some Python versions print out the first line of a multi-line function\u001b[39;00m\n\u001b[1;32m    250\u001b[0m \u001b[38;5;66;03m# calls in the traceback and some print out the last line\u001b[39;00m\n\u001b[0;32m--> 251\u001b[0m \u001b[43mVariable\u001b[49m\u001b[38;5;241;43m.\u001b[39;49m\u001b[43m_execution_engine\u001b[49m\u001b[38;5;241;43m.\u001b[39;49m\u001b[43mrun_backward\u001b[49m\u001b[43m(\u001b[49m\u001b[43m  \u001b[49m\u001b[38;5;66;43;03m# Calls into the C++ engine to run the backward pass\u001b[39;49;00m\n\u001b[1;32m    252\u001b[0m \u001b[43m    \u001b[49m\u001b[43mtensors\u001b[49m\u001b[43m,\u001b[49m\n\u001b[1;32m    253\u001b[0m \u001b[43m    \u001b[49m\u001b[43mgrad_tensors_\u001b[49m\u001b[43m,\u001b[49m\n\u001b[1;32m    254\u001b[0m \u001b[43m    \u001b[49m\u001b[43mretain_graph\u001b[49m\u001b[43m,\u001b[49m\n\u001b[1;32m    255\u001b[0m \u001b[43m    \u001b[49m\u001b[43mcreate_graph\u001b[49m\u001b[43m,\u001b[49m\n\u001b[1;32m    256\u001b[0m \u001b[43m    \u001b[49m\u001b[43minputs\u001b[49m\u001b[43m,\u001b[49m\n\u001b[1;32m    257\u001b[0m \u001b[43m    \u001b[49m\u001b[43mallow_unreachable\u001b[49m\u001b[38;5;241;43m=\u001b[39;49m\u001b[38;5;28;43;01mTrue\u001b[39;49;00m\u001b[43m,\u001b[49m\n\u001b[1;32m    258\u001b[0m \u001b[43m    \u001b[49m\u001b[43maccumulate_grad\u001b[49m\u001b[38;5;241;43m=\u001b[39;49m\u001b[38;5;28;43;01mTrue\u001b[39;49;00m\u001b[43m,\u001b[49m\n\u001b[1;32m    259\u001b[0m \u001b[43m\u001b[49m\u001b[43m)\u001b[49m\n",
      "\u001b[0;31mKeyboardInterrupt\u001b[0m: "
     ]
    }
   ],
   "source": [
    "bar = tqdm(range(0, n_train, batch_size))\n",
    "\n",
    "for i in bar:\n",
    "    batch = train_data[i:i+batch_size]\n",
    "    if batch.size(0) < batch_size:\n",
    "        continue\n",
    "\n",
    "    X, y = batch[:, :-1], batch[:, 1:]\n",
    "    X, y = X.to(device), y.to(device)\n",
    "\n",
    "    # If you change the batch size, you will need to remake the optimizer\n",
    "    # after resetting the memory because resetting the memory replaces the\n",
    "    # memory parameters if the batch size is different.\n",
    "    model.reset_memory(batch_size)\n",
    "\n",
    "    # # Memorize the current sequence\n",
    "    # mem_X = (X + 5) % 10\n",
    "    # mem_y = (y + 5) % 10\n",
    "    # for _ in range(30):\n",
    "    #     _, loss = model(mem_X, mem_y)\n",
    "\n",
    "    #     stm_optimizer.zero_grad()\n",
    "    #     loss.backward()\n",
    "    #     stm_optimizer.step()\n",
    "\n",
    "    # Learn to work with the memory\n",
    "    _, loss = model(X, y)\n",
    "\n",
    "    ltm_optimizer.zero_grad()\n",
    "    loss.backward()\n",
    "    ltm_optimizer.step()\n",
    "\n",
    "    bar.set_description(f\"Loss: {loss.item():.4f}\")"
   ]
  },
  {
   "cell_type": "code",
   "execution_count": null,
   "metadata": {},
   "outputs": [],
   "source": []
  }
 ],
 "metadata": {
  "kernelspec": {
   "display_name": "intract",
   "language": "python",
   "name": "python3"
  },
  "language_info": {
   "codemirror_mode": {
    "name": "ipython",
    "version": 3
   },
   "file_extension": ".py",
   "mimetype": "text/x-python",
   "name": "python",
   "nbconvert_exporter": "python",
   "pygments_lexer": "ipython3",
   "version": "3.9.16"
  }
 },
 "nbformat": 4,
 "nbformat_minor": 2
}
